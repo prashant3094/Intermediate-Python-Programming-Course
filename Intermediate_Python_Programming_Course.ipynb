{
  "nbformat": 4,
  "nbformat_minor": 0,
  "metadata": {
    "colab": {
      "name": "Intermediate Python Programming Course.ipynb",
      "provenance": [],
      "include_colab_link": true
    },
    "kernelspec": {
      "name": "python3",
      "display_name": "Python 3"
    },
    "language_info": {
      "name": "python"
    }
  },
  "cells": [
    {
      "cell_type": "markdown",
      "metadata": {
        "id": "view-in-github",
        "colab_type": "text"
      },
      "source": [
        "<a href=\"https://colab.research.google.com/github/prashant3094/Intermediate-Python-Programming-Course/blob/main/Intermediate_Python_Programming_Course.ipynb\" target=\"_parent\"><img src=\"https://colab.research.google.com/assets/colab-badge.svg\" alt=\"Open In Colab\"/></a>"
      ]
    },
    {
      "cell_type": "code",
      "execution_count": null,
      "metadata": {
        "id": "ndLzAzKCy7Do",
        "colab": {
          "base_uri": "https://localhost:8080/"
        },
        "outputId": "a29cf605-5464-4d93-acce-c488992167ad"
      },
      "outputs": [
        {
          "output_type": "stream",
          "name": "stdout",
          "text": [
            "<class 'tuple'>\n"
          ]
        }
      ],
      "source": [
        "my_tuple=\"max\",\"28\",\"boston\"\n",
        "print(type(my_tuple))"
      ]
    },
    {
      "cell_type": "code",
      "source": [
        "name,age,city=my_tuple\n",
        "print(name)\n",
        "print(age)\n",
        "print(city)"
      ],
      "metadata": {
        "colab": {
          "base_uri": "https://localhost:8080/"
        },
        "id": "_b5jPPH5tuuY",
        "outputId": "0de729a6-a668-460a-d6e9-58251f9bcf3b"
      },
      "execution_count": null,
      "outputs": [
        {
          "output_type": "stream",
          "name": "stdout",
          "text": [
            "max\n",
            "28\n",
            "boston\n"
          ]
        }
      ]
    },
    {
      "cell_type": "code",
      "source": [
        "my_tuple=(0,1,2,3,4)\n",
        "i1,*i2,i3=my_tuple\n",
        "print(i1)\n",
        "print(i3)\n",
        "print(i2)"
      ],
      "metadata": {
        "colab": {
          "base_uri": "https://localhost:8080/"
        },
        "id": "yd438jlTt-XF",
        "outputId": "c92c25b9-3286-4824-850b-6f2b8ab51cf0"
      },
      "execution_count": null,
      "outputs": [
        {
          "output_type": "stream",
          "name": "stdout",
          "text": [
            "0\n",
            "4\n",
            "[1, 2, 3]\n"
          ]
        }
      ]
    },
    {
      "cell_type": "code",
      "source": [
        "#tuples are more fater than list\n",
        "import timeit\n",
        "print(timeit.timeit(stmt=\"[0,1,2,3,4,5]\",number=1000000))  #list\n",
        "print(timeit.timeit(stmt=\"(0,1,2,3,4,5)\",number=1000000))   #tuple "
      ],
      "metadata": {
        "colab": {
          "base_uri": "https://localhost:8080/"
        },
        "id": "P-H902kZtu4d",
        "outputId": "8f9345a0-485b-43ea-c06a-f253b660930b"
      },
      "execution_count": null,
      "outputs": [
        {
          "output_type": "stream",
          "name": "stdout",
          "text": [
            "0.09607780500000018\n",
            "0.01246413399999824\n"
          ]
        }
      ]
    },
    {
      "cell_type": "markdown",
      "source": [
        "#sets"
      ],
      "metadata": {
        "id": "evzz8Ila_BjJ"
      }
    },
    {
      "cell_type": "markdown",
      "source": [
        "sets are unordered , mutable and no duplicate"
      ],
      "metadata": {
        "id": "N_dzovP5_EZg"
      }
    },
    {
      "cell_type": "code",
      "source": [
        "my_set=([1,2,3])\n",
        "print(my_set)"
      ],
      "metadata": {
        "colab": {
          "base_uri": "https://localhost:8080/"
        },
        "id": "QE_S0kv_tu7t",
        "outputId": "89af6050-34e0-4851-9ed2-9ef7781a971f"
      },
      "execution_count": null,
      "outputs": [
        {
          "output_type": "stream",
          "name": "stdout",
          "text": [
            "[1, 2, 3]\n"
          ]
        }
      ]
    },
    {
      "cell_type": "code",
      "source": [
        "my_set=set(\"hello\")\n",
        "print(my_set)"
      ],
      "metadata": {
        "colab": {
          "base_uri": "https://localhost:8080/"
        },
        "id": "_YxkUtT7tu-Y",
        "outputId": "0d7a5cd9-784f-4a93-e613-5caa0b2f5eea"
      },
      "execution_count": null,
      "outputs": [
        {
          "output_type": "stream",
          "name": "stdout",
          "text": [
            "{'h', 'l', 'o', 'e'}\n"
          ]
        }
      ]
    },
    {
      "cell_type": "code",
      "source": [
        "my_set=set()\n",
        "my_set.add(1)\n",
        "my_set.add(2)\n",
        "my_set.add(3)\n",
        "print(my_set)"
      ],
      "metadata": {
        "colab": {
          "base_uri": "https://localhost:8080/"
        },
        "id": "_mpVjnfTtvFX",
        "outputId": "80e3ee84-af5e-4835-d3ea-0bb15ecd61e7"
      },
      "execution_count": null,
      "outputs": [
        {
          "output_type": "stream",
          "name": "stdout",
          "text": [
            "{1, 2, 3}\n"
          ]
        }
      ]
    },
    {
      "cell_type": "code",
      "source": [
        "odds={1,3,5,7,9}\n",
        "evens={0,2,4,6,8}\n",
        "prime={2,3,5,7}"
      ],
      "metadata": {
        "id": "0LUD-u5jtvJI"
      },
      "execution_count": null,
      "outputs": []
    },
    {
      "cell_type": "code",
      "source": [
        "#union operation\n",
        "u=odds.union(evens)\n",
        "u"
      ],
      "metadata": {
        "id": "Z16NpKjwtvLp",
        "colab": {
          "base_uri": "https://localhost:8080/"
        },
        "outputId": "c04dec87-cc74-4072-c51c-acb7274e9442"
      },
      "execution_count": null,
      "outputs": [
        {
          "output_type": "execute_result",
          "data": {
            "text/plain": [
              "{0, 1, 2, 3, 4, 5, 6, 7, 8, 9}"
            ]
          },
          "metadata": {},
          "execution_count": 15
        }
      ]
    },
    {
      "cell_type": "code",
      "source": [
        "#intersection\n",
        "i=odds.intersection(evens)\n",
        "i"
      ],
      "metadata": {
        "id": "Ij1CW_SQtvTg",
        "colab": {
          "base_uri": "https://localhost:8080/"
        },
        "outputId": "f9e3c87a-b2ee-4d3c-9971-798e96bb686f"
      },
      "execution_count": null,
      "outputs": [
        {
          "output_type": "execute_result",
          "data": {
            "text/plain": [
              "set()"
            ]
          },
          "metadata": {},
          "execution_count": 16
        }
      ]
    },
    {
      "cell_type": "code",
      "source": [
        "i=odds.intersection(prime)\n",
        "i"
      ],
      "metadata": {
        "id": "_XCiznzxtvWt",
        "colab": {
          "base_uri": "https://localhost:8080/"
        },
        "outputId": "337bfdfb-0aef-4b56-837c-54a2c49fc6de"
      },
      "execution_count": null,
      "outputs": [
        {
          "output_type": "execute_result",
          "data": {
            "text/plain": [
              "{3, 5, 7}"
            ]
          },
          "metadata": {},
          "execution_count": 17
        }
      ]
    },
    {
      "cell_type": "code",
      "source": [
        "#concatinating strings\n",
        "greetings=\"hello\"\n",
        "name=\"tom\"\n",
        "sentence= greetings+ \" \" +name\n",
        "print(sentence)"
      ],
      "metadata": {
        "id": "oeoE2jr3tvc4",
        "colab": {
          "base_uri": "https://localhost:8080/"
        },
        "outputId": "0b0b2c2e-3e1e-4cd6-d5f3-5ae6193464ee"
      },
      "execution_count": null,
      "outputs": [
        {
          "output_type": "stream",
          "name": "stdout",
          "text": [
            "hello tom\n"
          ]
        }
      ]
    },
    {
      "cell_type": "code",
      "source": [
        "#removing white spaces from string\n",
        "my_string=\"    hello world  \"\n",
        "print(my_string)\n",
        "my_string=my_string.strip()\n",
        "my_string  #white space are removed"
      ],
      "metadata": {
        "id": "1nTYj9a6tvjJ",
        "colab": {
          "base_uri": "https://localhost:8080/",
          "height": 53
        },
        "outputId": "a88edec7-7025-48f2-c404-c78c921acefd"
      },
      "execution_count": null,
      "outputs": [
        {
          "output_type": "stream",
          "name": "stdout",
          "text": [
            "    hello world  \n"
          ]
        },
        {
          "output_type": "execute_result",
          "data": {
            "application/vnd.google.colaboratory.intrinsic+json": {
              "type": "string"
            },
            "text/plain": [
              "'hello world'"
            ]
          },
          "metadata": {},
          "execution_count": 21
        }
      ]
    },
    {
      "cell_type": "code",
      "source": [
        "my_string=\"hello world\"\n",
        "print(my_string.replace(\"world\",\"universe\"))"
      ],
      "metadata": {
        "id": "gzOE6IvjtvmI",
        "colab": {
          "base_uri": "https://localhost:8080/"
        },
        "outputId": "11cf8bf4-6ff7-4bd1-ec25-31ccc596bfce"
      },
      "execution_count": null,
      "outputs": [
        {
          "output_type": "stream",
          "name": "stdout",
          "text": [
            "hello universe\n"
          ]
        }
      ]
    },
    {
      "cell_type": "code",
      "source": [
        "var=3.1234567\n",
        "my_string=\"the variable is {}\".format(var)\n",
        "print(my_string)"
      ],
      "metadata": {
        "colab": {
          "base_uri": "https://localhost:8080/"
        },
        "id": "orEXYeivaTxT",
        "outputId": "c1190186-051d-4433-bd7b-185abe9b71c1"
      },
      "execution_count": null,
      "outputs": [
        {
          "output_type": "stream",
          "name": "stdout",
          "text": [
            "the variable is 3.1234567\n"
          ]
        }
      ]
    },
    {
      "cell_type": "code",
      "source": [
        "var1=3.1234567\n",
        "var2=6\n",
        "my_string=f\"the variable is {var1} and {var2}\"\n",
        "print(my_string)"
      ],
      "metadata": {
        "colab": {
          "base_uri": "https://localhost:8080/"
        },
        "id": "QqW7GGO3aTz7",
        "outputId": "a15ea5ab-b1c8-4a07-d295-1ac736558170"
      },
      "execution_count": null,
      "outputs": [
        {
          "output_type": "stream",
          "name": "stdout",
          "text": [
            "the variable is 3.1234567 and 6\n"
          ]
        }
      ]
    },
    {
      "cell_type": "markdown",
      "source": [
        "#collections"
      ],
      "metadata": {
        "id": "p59uc_3YmwNN"
      }
    },
    {
      "cell_type": "code",
      "source": [
        "from collections import Counter"
      ],
      "metadata": {
        "id": "YTHFjvyhaT2_"
      },
      "execution_count": null,
      "outputs": []
    },
    {
      "cell_type": "code",
      "source": [
        "a=\"aaaaaaabbbbbccc\"\n",
        "my_counter=Counter(a)\n",
        "print(my_counter)"
      ],
      "metadata": {
        "colab": {
          "base_uri": "https://localhost:8080/"
        },
        "id": "cRUNdDidaT5O",
        "outputId": "34b12e58-d861-4a90-ae50-865cba24db28"
      },
      "execution_count": null,
      "outputs": [
        {
          "output_type": "stream",
          "name": "stdout",
          "text": [
            "Counter({'a': 7, 'b': 5, 'c': 3})\n"
          ]
        }
      ]
    },
    {
      "cell_type": "code",
      "source": [
        "print(my_counter.most_common(1))  #a is most common element in our string"
      ],
      "metadata": {
        "colab": {
          "base_uri": "https://localhost:8080/"
        },
        "id": "eg7K0gg1aT7u",
        "outputId": "3c832edc-5348-4b44-e5a6-ce1fefb6f82d"
      },
      "execution_count": null,
      "outputs": [
        {
          "output_type": "stream",
          "name": "stdout",
          "text": [
            "[('a', 7)]\n"
          ]
        }
      ]
    },
    {
      "cell_type": "code",
      "source": [
        "print(list(my_counter.elements()))"
      ],
      "metadata": {
        "colab": {
          "base_uri": "https://localhost:8080/"
        },
        "id": "KAJd250raT-a",
        "outputId": "f48ac818-b136-456d-dd40-2ef47d424368"
      },
      "execution_count": null,
      "outputs": [
        {
          "output_type": "stream",
          "name": "stdout",
          "text": [
            "['a', 'a', 'a', 'a', 'a', 'a', 'a', 'b', 'b', 'b', 'b', 'b', 'c', 'c', 'c']\n"
          ]
        }
      ]
    },
    {
      "cell_type": "code",
      "source": [
        "from collections import namedtuple\n",
        "point=namedtuple(\"point\",\"x,y\")\n",
        "pt=point(1,-4)\n",
        "print(pt.x,pt.y)"
      ],
      "metadata": {
        "colab": {
          "base_uri": "https://localhost:8080/"
        },
        "id": "NQaVfDHNaUAk",
        "outputId": "6ebe19e6-ea2c-4fb5-d9e3-3d98aa5bb74e"
      },
      "execution_count": null,
      "outputs": [
        {
          "output_type": "stream",
          "name": "stdout",
          "text": [
            "1 -4\n"
          ]
        }
      ]
    },
    {
      "cell_type": "code",
      "source": [
        "from collections import deque\n",
        "d=deque()\n",
        "d.append(1)\n",
        "d.append(2)\n",
        "print(d)"
      ],
      "metadata": {
        "id": "snMjiTKMtvp_",
        "colab": {
          "base_uri": "https://localhost:8080/"
        },
        "outputId": "b46f93dc-8a64-4a7f-87fe-eb7852623a78"
      },
      "execution_count": null,
      "outputs": [
        {
          "output_type": "stream",
          "name": "stdout",
          "text": [
            "deque([1, 2])\n"
          ]
        }
      ]
    },
    {
      "cell_type": "markdown",
      "source": [
        "#itertools"
      ],
      "metadata": {
        "id": "c0d0d3Wksj-0"
      }
    },
    {
      "cell_type": "code",
      "source": [
        "from itertools import permutations\n",
        "a=[1,2,3]\n",
        "perm=permutations(a)\n",
        "print(list(perm))  # we see all the different ordering"
      ],
      "metadata": {
        "colab": {
          "base_uri": "https://localhost:8080/"
        },
        "id": "wv24UMCPr25h",
        "outputId": "be04078c-7a83-40f0-c16b-8e7917f09cd3"
      },
      "execution_count": null,
      "outputs": [
        {
          "output_type": "stream",
          "name": "stdout",
          "text": [
            "[(1, 2, 3), (1, 3, 2), (2, 1, 3), (2, 3, 1), (3, 1, 2), (3, 2, 1)]\n"
          ]
        }
      ]
    },
    {
      "cell_type": "code",
      "source": [
        "from itertools import combinations\n",
        "a=[1,2,3]\n",
        "perm=combinations(a,2)\n",
        "print(list(perm))  # "
      ],
      "metadata": {
        "colab": {
          "base_uri": "https://localhost:8080/"
        },
        "id": "NApUqoPjr28-",
        "outputId": "a8dbfcab-f6c5-454b-a35c-4ecf5322ba34"
      },
      "execution_count": null,
      "outputs": [
        {
          "output_type": "stream",
          "name": "stdout",
          "text": [
            "[(1, 2), (1, 3), (2, 3)]\n"
          ]
        }
      ]
    },
    {
      "cell_type": "code",
      "source": [
        "from itertools import accumulate\n",
        "a=[1,2,3,4]\n",
        "acc=accumulate(a)\n",
        "print(a)\n",
        "print(list(acc))"
      ],
      "metadata": {
        "colab": {
          "base_uri": "https://localhost:8080/"
        },
        "id": "B675TOvYr2_u",
        "outputId": "8da5c9f5-6e23-45c8-e461-d5e17f65e100"
      },
      "execution_count": null,
      "outputs": [
        {
          "output_type": "stream",
          "name": "stdout",
          "text": [
            "[1, 2, 3, 4]\n",
            "[1, 3, 6, 10]\n"
          ]
        }
      ]
    },
    {
      "cell_type": "markdown",
      "source": [
        "#LAMBDA== One line function"
      ],
      "metadata": {
        "id": "mXi62zfP8S5L"
      }
    },
    {
      "cell_type": "code",
      "source": [
        "def add10_func(x):\n",
        "  return x+10\n",
        "\n",
        "add10_func(5)"
      ],
      "metadata": {
        "colab": {
          "base_uri": "https://localhost:8080/"
        },
        "id": "ColqSuib8hzT",
        "outputId": "98c32b18-7fec-4263-fcc4-9f01db99a471"
      },
      "execution_count": null,
      "outputs": [
        {
          "output_type": "execute_result",
          "data": {
            "text/plain": [
              "15"
            ]
          },
          "metadata": {},
          "execution_count": 1
        }
      ]
    },
    {
      "cell_type": "code",
      "source": [
        "add10=lambda x : x+10\n",
        "print(add10(5))"
      ],
      "metadata": {
        "colab": {
          "base_uri": "https://localhost:8080/"
        },
        "id": "Fhbto0uer3Ce",
        "outputId": "be2a31b0-ae16-4625-988e-9beee281e6b0"
      },
      "execution_count": null,
      "outputs": [
        {
          "output_type": "stream",
          "name": "stdout",
          "text": [
            "15\n"
          ]
        }
      ]
    },
    {
      "cell_type": "code",
      "source": [
        "mul=lambda x ,y :x* y\n",
        "print(mul(2,7))"
      ],
      "metadata": {
        "colab": {
          "base_uri": "https://localhost:8080/"
        },
        "id": "5uzQ5KMyr3FB",
        "outputId": "aa6a8184-19cf-4e78-a2cf-54909c2537e3"
      },
      "execution_count": null,
      "outputs": [
        {
          "output_type": "stream",
          "name": "stdout",
          "text": [
            "14\n"
          ]
        }
      ]
    },
    {
      "cell_type": "code",
      "source": [
        "#map function (function, sequence)\n",
        "a=[1,2,3,4,5]\n",
        "b=map(lambda x: x*2 ,a)\n",
        "print(list(b))"
      ],
      "metadata": {
        "colab": {
          "base_uri": "https://localhost:8080/"
        },
        "id": "auLOr0a1r3I4",
        "outputId": "446cb55f-c3ff-4f99-c1f4-969ba06ef8d6"
      },
      "execution_count": null,
      "outputs": [
        {
          "output_type": "stream",
          "name": "stdout",
          "text": [
            "[2, 4, 6, 8, 10]\n"
          ]
        }
      ]
    },
    {
      "cell_type": "code",
      "source": [
        "from functools import reduce\n",
        "a=[1,2,3,4]\n",
        "product_a=reduce(lambda x,y: x*y ,a )\n",
        "print(product_a)"
      ],
      "metadata": {
        "colab": {
          "base_uri": "https://localhost:8080/"
        },
        "id": "Nu-jHFwLr3Lj",
        "outputId": "66741596-eaf1-40a9-aa78-1e4bfef2f138"
      },
      "execution_count": null,
      "outputs": [
        {
          "output_type": "stream",
          "name": "stdout",
          "text": [
            "24\n"
          ]
        }
      ]
    },
    {
      "cell_type": "markdown",
      "source": [
        "#logging"
      ],
      "metadata": {
        "id": "pshLDSzVmOrB"
      }
    },
    {
      "cell_type": "markdown",
      "source": [
        "The logging module in Python is a powerful built-in module so you can quickly add logging to your application."
      ],
      "metadata": {
        "id": "4fJTCVvZmUFe"
      }
    },
    {
      "cell_type": "code",
      "source": [
        "import logging"
      ],
      "metadata": {
        "id": "bCgGLFve_oRP"
      },
      "execution_count": null,
      "outputs": []
    },
    {
      "cell_type": "code",
      "source": [
        "import logging\n",
        "logging.debug('This is a debug message')\n",
        "logging.info('This is an info message')\n",
        "logging.warning('This is a warning message')\n",
        "logging.error('This is an error message')\n",
        "logging.critical('This is a critical message')"
      ],
      "metadata": {
        "id": "2Twdp__h_oT2",
        "colab": {
          "base_uri": "https://localhost:8080/"
        },
        "outputId": "3d7ba757-d089-460e-b27d-c14ec78d14d6"
      },
      "execution_count": null,
      "outputs": [
        {
          "output_type": "stream",
          "name": "stderr",
          "text": [
            "WARNING:root:This is a warning message\n",
            "ERROR:root:This is an error message\n",
            "CRITICAL:root:This is a critical message\n"
          ]
        }
      ]
    },
    {
      "cell_type": "code",
      "source": [
        "import logging\n",
        "logging.basicConfig(level=logging.DEBUG, format='%(asctime)s - %(name)s - %(levelname)s - %(message)s', datefmt='%m/%d/%Y %H:%M:%S')\n",
        "# Now also debug messages will get logged with a different format.\n",
        "#logging.debug('Debug message')\n",
        "logging.debug('This is a debug message')\n",
        "logging.info('This is an info message')\n",
        "logging.warning('This is a warning message')\n",
        "logging.error('This is an error message')\n",
        "logging.critical('This is a critical message')\n",
        "\n",
        "# This would log to a file instead of the console.\n",
        "# logging.basicConfig(level=logging.DEBUG, filename='app.log')"
      ],
      "metadata": {
        "id": "uoGlWGkY_oWT",
        "colab": {
          "base_uri": "https://localhost:8080/"
        },
        "outputId": "bdb08cbf-c806-43f8-c1a2-0e442c99e61d"
      },
      "execution_count": null,
      "outputs": [
        {
          "output_type": "stream",
          "name": "stderr",
          "text": [
            "WARNING:root:This is a warning message\n",
            "ERROR:root:This is an error message\n",
            "CRITICAL:root:This is a critical message\n"
          ]
        }
      ]
    },
    {
      "cell_type": "code",
      "source": [
        ""
      ],
      "metadata": {
        "id": "me__FGNw_oZb"
      },
      "execution_count": null,
      "outputs": []
    },
    {
      "cell_type": "markdown",
      "source": [
        "#json"
      ],
      "metadata": {
        "id": "4Pp5cbpK6ZfW"
      }
    },
    {
      "cell_type": "markdown",
      "source": [
        "JSON (JavaScript Object Notation) is a leightweight data format for data exchange. In Python you have the built-in json module for encoding and decoding JSON data. Simply import it and you are ready to work with JSON data:"
      ],
      "metadata": {
        "id": "Vug481v36n8U"
      }
    },
    {
      "cell_type": "code",
      "source": [
        "{\n",
        "    \"firstName\": \"Jane\",\n",
        "    \"lastName\": \"Doe\",\n",
        "    \"hobbies\": [\"running\", \"swimming\", \"singing\"],\n",
        "    \"age\": 28,\n",
        "    \"children\": [\n",
        "        {\n",
        "            \"firstName\": \"Alex\",\n",
        "            \"age\": 5\n",
        "        },\n",
        "        {\n",
        "            \"firstName\": \"Bob\",\n",
        "            \"age\": 7\n",
        "        }\n",
        "    ]\n",
        "}"
      ],
      "metadata": {
        "id": "zzluGBlp_obZ",
        "colab": {
          "base_uri": "https://localhost:8080/"
        },
        "outputId": "e9e08e62-c879-44e3-eaab-d4fcea3828b0"
      },
      "execution_count": null,
      "outputs": [
        {
          "output_type": "execute_result",
          "data": {
            "text/plain": [
              "{'age': 28,\n",
              " 'children': [{'age': 5, 'firstName': 'Alex'}, {'age': 7, 'firstName': 'Bob'}],\n",
              " 'firstName': 'Jane',\n",
              " 'hobbies': ['running', 'swimming', 'singing'],\n",
              " 'lastName': 'Doe'}"
            ]
          },
          "metadata": {},
          "execution_count": 1
        }
      ]
    },
    {
      "cell_type": "markdown",
      "source": [
        "lets say we have python dictionary and convert it into json format this is also called SERIALIZATION or ENCODING"
      ],
      "metadata": {
        "id": "PzNJZgFF7i4Y"
      }
    },
    {
      "cell_type": "code",
      "source": [
        "import json\n",
        "\n",
        "person = {\"name\": \"John\", \"age\": 30, \"city\": \"New York\", \"hasChildren\": False, \"titles\": [\"engineer\", \"programmer\"]}\n",
        "\n",
        "# convert into JSON:\n",
        "person_json = json.dumps(person)\n",
        "print(person_json)"
      ],
      "metadata": {
        "id": "DRmX5ynC_oe7",
        "colab": {
          "base_uri": "https://localhost:8080/"
        },
        "outputId": "07f95911-6126-412e-b0bb-3484298a5f4a"
      },
      "execution_count": null,
      "outputs": [
        {
          "output_type": "stream",
          "name": "stdout",
          "text": [
            "{\"name\": \"John\", \"age\": 30, \"city\": \"New York\", \"hasChildren\": false, \"titles\": [\"engineer\", \"programmer\"]}\n"
          ]
        }
      ]
    },
    {
      "cell_type": "code",
      "source": [
        "person_json2 = json.dumps(person, indent=4, separators=(\"; \", \"= \"), sort_keys=True)\n",
        "# the result is a JSON string: \n",
        "print(person_json2) "
      ],
      "metadata": {
        "id": "kZceG8vY_ohV",
        "colab": {
          "base_uri": "https://localhost:8080/"
        },
        "outputId": "ee05dc45-e37b-4e8d-c986-dc914162ae62"
      },
      "execution_count": null,
      "outputs": [
        {
          "output_type": "stream",
          "name": "stdout",
          "text": [
            "{\n",
            "    \"age\"= 30; \n",
            "    \"city\"= \"New York\"; \n",
            "    \"hasChildren\"= false; \n",
            "    \"name\"= \"John\"; \n",
            "    \"titles\"= [\n",
            "        \"engineer\"; \n",
            "        \"programmer\"\n",
            "    ]\n",
            "}\n"
          ]
        }
      ]
    },
    {
      "cell_type": "markdown",
      "source": [
        "lets say we have json data and we want to convert it back to python data this is called deserilization or decoding"
      ],
      "metadata": {
        "id": "H3-1RTNs99tb"
      }
    },
    {
      "cell_type": "code",
      "source": [
        "import json\n",
        "\n",
        "person = {\"name\": \"John\", \"age\": 30, \"city\": \"New York\", \"hasChildren\": False, \"titles\": [\"engineer\", \"programmer\"]}\n",
        "\n",
        "# convert into JSON:\n",
        "person_json = json.dumps(person)\n",
        "\n",
        "person = json.loads(person_json)\n",
        "print(person)"
      ],
      "metadata": {
        "id": "ZaHThhwe_ojL",
        "colab": {
          "base_uri": "https://localhost:8080/"
        },
        "outputId": "2e5083b3-83b6-4daa-b03c-915384d6d940"
      },
      "execution_count": null,
      "outputs": [
        {
          "output_type": "stream",
          "name": "stdout",
          "text": [
            "{'name': 'John', 'age': 30, 'city': 'New York', 'hasChildren': False, 'titles': ['engineer', 'programmer']}\n"
          ]
        }
      ]
    },
    {
      "cell_type": "markdown",
      "source": [
        "#rabdom numbers"
      ],
      "metadata": {
        "id": "o8CqcE59BwG9"
      }
    },
    {
      "cell_type": "markdown",
      "source": [
        "Python defines a set of functions that are used to generate or manipulate random numbers. This article covers:\n",
        "\n",
        "the random module\n",
        "reproduce numbers with random.seed()\n",
        "\n",
        "create cryptographically strong random numbers with the secrets module\n",
        "\n",
        "create random nd arrays with numpy.random"
      ],
      "metadata": {
        "id": "7-dB95AYB-St"
      }
    },
    {
      "cell_type": "code",
      "source": [
        "import random\n",
        "\n",
        "# random float in [0,1)\n",
        "a = random.random()\n",
        "print(a)\n",
        "\n",
        "# random float in range [a,b]\n",
        "a = random.uniform(1,10)\n",
        "print(a)\n",
        "\n",
        "# random integer in range [a,b]. b is included\n",
        "a = random.randint(1,10)\n",
        "print(a)\n",
        "\n",
        "# random integer in range [a,b). b is excluded\n",
        "a = random.randrange(1,10)\n",
        "print(a)\n",
        "\n",
        "# random float from a normal distribution with mu and sigma\n",
        "a = random.normalvariate(0, 1)\n",
        "print(a)\n",
        "\n",
        "# choose a random element from a sequence\n",
        "a = random.choice(list(\"ABCDEFGHI\"))\n",
        "print(a)\n",
        "\n",
        "# choose k unique random elements from a sequence\n",
        "a = random.sample(list(\"ABCDEFGHI\"), 3)\n",
        "print(a)\n",
        "\n",
        "# choose k elements with replacement, and return k sized list\n",
        "a = random.choices(list(\"ABCDEFGHI\"),k=3)\n",
        "print(a)\n",
        "\n",
        "# shuffle list in place\n",
        "a = list(\"ABCDEFGHI\")\n",
        "random.shuffle(a)\n",
        "print(a)"
      ],
      "metadata": {
        "id": "gzpieet2-t8G",
        "outputId": "ab83ee75-a97a-48e0-c5c6-2186e6cb09af",
        "colab": {
          "base_uri": "https://localhost:8080/"
        }
      },
      "execution_count": null,
      "outputs": [
        {
          "output_type": "stream",
          "name": "stdout",
          "text": [
            "0.18505096341476068\n",
            "3.757388105938565\n",
            "10\n",
            "9\n",
            "0.19576109372036332\n",
            "G\n",
            "['D', 'I', 'E']\n",
            "['B', 'A', 'I']\n",
            "['H', 'I', 'A', 'B', 'F', 'E', 'G', 'C', 'D']\n"
          ]
        }
      ]
    },
    {
      "cell_type": "markdown",
      "source": [
        "#Random numbers with NumPy"
      ],
      "metadata": {
        "id": "a_gcm4-FJcse"
      }
    },
    {
      "cell_type": "code",
      "source": [
        "import numpy as np\n",
        "\n",
        "np.random.seed(1)\n",
        "# rand(d0,d1,…,dn)\n",
        "# generate nd array with random floats, arrays has size (d0,d1,…,dn)\n",
        "print(np.random.rand(3))\n",
        "# reset the seed\n",
        "np.random.seed(1)\n",
        "print(np.random.rand(3))\n",
        "\n",
        "# generate nd array with random integers in range [a,b) with size n\n",
        "values = np.random.randint(0, 10, (5,3))\n",
        "print(values)\n",
        "\n",
        "# generate nd array with Gaussian values, array has size (d0,d1,…,dn)\n",
        "# values from standard normal distribution with mean 0.0 and standard deviation 1.0\n",
        "values = np.random.randn(5)\n",
        "print(values)\n",
        "\n",
        "# randomly shuffle a nd array.\n",
        "# only shuffles the array along the first axis of a multi-dimensional array\n",
        "arr = np.array([[1,2,3], [4,5,6], [7,8,9]])\n",
        "np.random.shuffle(arr)\n",
        "print(arr)"
      ],
      "metadata": {
        "id": "zcy9wVOs-t-5",
        "outputId": "2445a17d-d041-4998-d054-fd17bcbdacb5",
        "colab": {
          "base_uri": "https://localhost:8080/"
        }
      },
      "execution_count": null,
      "outputs": [
        {
          "output_type": "stream",
          "name": "stdout",
          "text": [
            "[4.17022005e-01 7.20324493e-01 1.14374817e-04]\n",
            "[4.17022005e-01 7.20324493e-01 1.14374817e-04]\n",
            "[[5 0 0]\n",
            " [1 7 6]\n",
            " [9 2 4]\n",
            " [5 2 4]\n",
            " [2 4 7]]\n",
            "[-2.29230928 -1.41555249  0.8858294   0.63190187  0.04026035]\n",
            "[[4 5 6]\n",
            " [7 8 9]\n",
            " [1 2 3]]\n"
          ]
        }
      ]
    },
    {
      "cell_type": "markdown",
      "source": [
        "#copy"
      ],
      "metadata": {
        "id": "T-vIuEF0BBwy"
      }
    },
    {
      "cell_type": "code",
      "source": [
        "org=[1,2,3,4,5]\n",
        "cpy=org\n",
        "cpy[0]=-10\n",
        "print(cpy)\n",
        "print(org)  #the original will also changed"
      ],
      "metadata": {
        "id": "1jrN6sit-uB1",
        "outputId": "99735bc2-2f4e-4529-8a2f-642650a64e11",
        "colab": {
          "base_uri": "https://localhost:8080/"
        }
      },
      "execution_count": 1,
      "outputs": [
        {
          "output_type": "stream",
          "name": "stdout",
          "text": [
            "[-10, 2, 3, 4, 5]\n",
            "[-10, 2, 3, 4, 5]\n"
          ]
        }
      ]
    },
    {
      "cell_type": "code",
      "source": [
        "#shallow copy\n",
        "import copy\n",
        "org=[1,2,3,4,5]\n",
        "cpy=copy.copy(org)\n",
        "cpy[0]=-10\n",
        "print(cpy)\n",
        "print(org)  "
      ],
      "metadata": {
        "id": "ccupudG--uEH",
        "outputId": "c0484c31-5d31-49e3-c2eb-1b0ba5a519f1",
        "colab": {
          "base_uri": "https://localhost:8080/"
        }
      },
      "execution_count": 3,
      "outputs": [
        {
          "output_type": "stream",
          "name": "stdout",
          "text": [
            "[-10, 2, 3, 4, 5]\n",
            "[1, 2, 3, 4, 5]\n"
          ]
        }
      ]
    },
    {
      "cell_type": "code",
      "source": [
        "#shallow copy is only one level deep\n",
        "org=[[0,1,2,3,4],[5,6,7,8,9]]\n",
        "cpy=copy.copy(org)\n",
        "cpy[0][1]=-10\n",
        "print(cpy)\n",
        "print(org)"
      ],
      "metadata": {
        "id": "_ecgMoRp-uJW",
        "outputId": "7ebec816-d6af-4b34-9bd1-8a3747f84d37",
        "colab": {
          "base_uri": "https://localhost:8080/"
        }
      },
      "execution_count": 4,
      "outputs": [
        {
          "output_type": "stream",
          "name": "stdout",
          "text": [
            "[[0, -10, 2, 3, 4], [5, 6, 7, 8, 9]]\n",
            "[[0, -10, 2, 3, 4], [5, 6, 7, 8, 9]]\n"
          ]
        }
      ]
    },
    {
      "cell_type": "code",
      "source": [
        "org=[[0,1,2,3,4],[5,6,7,8,9]]\n",
        "cpy=copy.deepcopy(org)  #original doent get affected\n",
        "cpy[0][1]=-10\n",
        "print(cpy)\n",
        "print(org)"
      ],
      "metadata": {
        "id": "RqS0Wg-M-uLo",
        "outputId": "de7fe04f-fea7-448c-a654-baffb3a405ca",
        "colab": {
          "base_uri": "https://localhost:8080/"
        }
      },
      "execution_count": 5,
      "outputs": [
        {
          "output_type": "stream",
          "name": "stdout",
          "text": [
            "[[0, -10, 2, 3, 4], [5, 6, 7, 8, 9]]\n",
            "[[0, 1, 2, 3, 4], [5, 6, 7, 8, 9]]\n"
          ]
        }
      ]
    },
    {
      "cell_type": "code",
      "source": [
        ""
      ],
      "metadata": {
        "id": "cLEXeQKP-uQV"
      },
      "execution_count": null,
      "outputs": []
    }
  ]
}