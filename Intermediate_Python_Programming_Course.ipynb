{
  "nbformat": 4,
  "nbformat_minor": 0,
  "metadata": {
    "colab": {
      "name": "Intermediate Python Programming Course.ipynb",
      "provenance": [],
      "authorship_tag": "ABX9TyMtXWno+i3OwU6BM5f1TUof",
      "include_colab_link": true
    },
    "kernelspec": {
      "name": "python3",
      "display_name": "Python 3"
    },
    "language_info": {
      "name": "python"
    }
  },
  "cells": [
    {
      "cell_type": "markdown",
      "metadata": {
        "id": "view-in-github",
        "colab_type": "text"
      },
      "source": [
        "<a href=\"https://colab.research.google.com/github/prashant3094/Intermediate-Python-Programming-Course/blob/main/Intermediate_Python_Programming_Course.ipynb\" target=\"_parent\"><img src=\"https://colab.research.google.com/assets/colab-badge.svg\" alt=\"Open In Colab\"/></a>"
      ]
    },
    {
      "cell_type": "code",
      "execution_count": 1,
      "metadata": {
        "id": "ndLzAzKCy7Do",
        "colab": {
          "base_uri": "https://localhost:8080/"
        },
        "outputId": "a29cf605-5464-4d93-acce-c488992167ad"
      },
      "outputs": [
        {
          "output_type": "stream",
          "name": "stdout",
          "text": [
            "<class 'tuple'>\n"
          ]
        }
      ],
      "source": [
        "my_tuple=\"max\",\"28\",\"boston\"\n",
        "print(type(my_tuple))"
      ]
    },
    {
      "cell_type": "code",
      "source": [
        "name,age,city=my_tuple\n",
        "print(name)\n",
        "print(age)\n",
        "print(city)"
      ],
      "metadata": {
        "colab": {
          "base_uri": "https://localhost:8080/"
        },
        "id": "_b5jPPH5tuuY",
        "outputId": "0de729a6-a668-460a-d6e9-58251f9bcf3b"
      },
      "execution_count": 2,
      "outputs": [
        {
          "output_type": "stream",
          "name": "stdout",
          "text": [
            "max\n",
            "28\n",
            "boston\n"
          ]
        }
      ]
    },
    {
      "cell_type": "code",
      "source": [
        "my_tuple=(0,1,2,3,4)\n",
        "i1,*i2,i3=my_tuple\n",
        "print(i1)\n",
        "print(i3)\n",
        "print(i2)"
      ],
      "metadata": {
        "colab": {
          "base_uri": "https://localhost:8080/"
        },
        "id": "yd438jlTt-XF",
        "outputId": "c92c25b9-3286-4824-850b-6f2b8ab51cf0"
      },
      "execution_count": 3,
      "outputs": [
        {
          "output_type": "stream",
          "name": "stdout",
          "text": [
            "0\n",
            "4\n",
            "[1, 2, 3]\n"
          ]
        }
      ]
    },
    {
      "cell_type": "code",
      "source": [
        "#tuples are more fater than list\n",
        "import timeit\n",
        "print(timeit.timeit(stmt=\"[0,1,2,3,4,5]\",number=1000000))  #list\n",
        "print(timeit.timeit(stmt=\"(0,1,2,3,4,5)\",number=1000000))   #tuple "
      ],
      "metadata": {
        "colab": {
          "base_uri": "https://localhost:8080/"
        },
        "id": "P-H902kZtu4d",
        "outputId": "8f9345a0-485b-43ea-c06a-f253b660930b"
      },
      "execution_count": 4,
      "outputs": [
        {
          "output_type": "stream",
          "name": "stdout",
          "text": [
            "0.09607780500000018\n",
            "0.01246413399999824\n"
          ]
        }
      ]
    },
    {
      "cell_type": "markdown",
      "source": [
        "#sets"
      ],
      "metadata": {
        "id": "evzz8Ila_BjJ"
      }
    },
    {
      "cell_type": "markdown",
      "source": [
        "sets are unordered , mutable and no duplicate"
      ],
      "metadata": {
        "id": "N_dzovP5_EZg"
      }
    },
    {
      "cell_type": "code",
      "source": [
        "my_set=([1,2,3])\n",
        "print(my_set)"
      ],
      "metadata": {
        "colab": {
          "base_uri": "https://localhost:8080/"
        },
        "id": "QE_S0kv_tu7t",
        "outputId": "89af6050-34e0-4851-9ed2-9ef7781a971f"
      },
      "execution_count": 5,
      "outputs": [
        {
          "output_type": "stream",
          "name": "stdout",
          "text": [
            "[1, 2, 3]\n"
          ]
        }
      ]
    },
    {
      "cell_type": "code",
      "source": [
        "my_set=set(\"hello\")\n",
        "print(my_set)"
      ],
      "metadata": {
        "colab": {
          "base_uri": "https://localhost:8080/"
        },
        "id": "_YxkUtT7tu-Y",
        "outputId": "0d7a5cd9-784f-4a93-e613-5caa0b2f5eea"
      },
      "execution_count": 6,
      "outputs": [
        {
          "output_type": "stream",
          "name": "stdout",
          "text": [
            "{'h', 'l', 'o', 'e'}\n"
          ]
        }
      ]
    },
    {
      "cell_type": "code",
      "source": [
        "my_set=set()\n",
        "my_set.add(1)\n",
        "my_set.add(2)\n",
        "my_set.add(3)\n",
        "print(my_set)"
      ],
      "metadata": {
        "colab": {
          "base_uri": "https://localhost:8080/"
        },
        "id": "_mpVjnfTtvFX",
        "outputId": "80e3ee84-af5e-4835-d3ea-0bb15ecd61e7"
      },
      "execution_count": 7,
      "outputs": [
        {
          "output_type": "stream",
          "name": "stdout",
          "text": [
            "{1, 2, 3}\n"
          ]
        }
      ]
    },
    {
      "cell_type": "code",
      "source": [
        "odds={1,3,5,7,9}\n",
        "evens={0,2,4,6,8}\n",
        "prime={2,3,5,7}"
      ],
      "metadata": {
        "id": "0LUD-u5jtvJI"
      },
      "execution_count": 14,
      "outputs": []
    },
    {
      "cell_type": "code",
      "source": [
        "#union operation\n",
        "u=odds.union(evens)\n",
        "u"
      ],
      "metadata": {
        "id": "Z16NpKjwtvLp",
        "colab": {
          "base_uri": "https://localhost:8080/"
        },
        "outputId": "c04dec87-cc74-4072-c51c-acb7274e9442"
      },
      "execution_count": 15,
      "outputs": [
        {
          "output_type": "execute_result",
          "data": {
            "text/plain": [
              "{0, 1, 2, 3, 4, 5, 6, 7, 8, 9}"
            ]
          },
          "metadata": {},
          "execution_count": 15
        }
      ]
    },
    {
      "cell_type": "code",
      "source": [
        "#intersection\n",
        "i=odds.intersection(evens)\n",
        "i"
      ],
      "metadata": {
        "id": "Ij1CW_SQtvTg",
        "colab": {
          "base_uri": "https://localhost:8080/"
        },
        "outputId": "f9e3c87a-b2ee-4d3c-9971-798e96bb686f"
      },
      "execution_count": 16,
      "outputs": [
        {
          "output_type": "execute_result",
          "data": {
            "text/plain": [
              "set()"
            ]
          },
          "metadata": {},
          "execution_count": 16
        }
      ]
    },
    {
      "cell_type": "code",
      "source": [
        "i=odds.intersection(prime)\n",
        "i"
      ],
      "metadata": {
        "id": "_XCiznzxtvWt",
        "colab": {
          "base_uri": "https://localhost:8080/"
        },
        "outputId": "337bfdfb-0aef-4b56-837c-54a2c49fc6de"
      },
      "execution_count": 17,
      "outputs": [
        {
          "output_type": "execute_result",
          "data": {
            "text/plain": [
              "{3, 5, 7}"
            ]
          },
          "metadata": {},
          "execution_count": 17
        }
      ]
    },
    {
      "cell_type": "code",
      "source": [
        "#concatinating strings\n",
        "greetings=\"hello\"\n",
        "name=\"tom\"\n",
        "sentence= greetings+ \" \" +name\n",
        "print(sentence)"
      ],
      "metadata": {
        "id": "oeoE2jr3tvc4",
        "colab": {
          "base_uri": "https://localhost:8080/"
        },
        "outputId": "0b0b2c2e-3e1e-4cd6-d5f3-5ae6193464ee"
      },
      "execution_count": 19,
      "outputs": [
        {
          "output_type": "stream",
          "name": "stdout",
          "text": [
            "hello tom\n"
          ]
        }
      ]
    },
    {
      "cell_type": "code",
      "source": [
        "#removing white spaces from string\n",
        "my_string=\"    hello world  \"\n",
        "print(my_string)\n",
        "my_string=my_string.strip()\n",
        "my_string  #white space are removed"
      ],
      "metadata": {
        "id": "1nTYj9a6tvjJ",
        "colab": {
          "base_uri": "https://localhost:8080/",
          "height": 53
        },
        "outputId": "a88edec7-7025-48f2-c404-c78c921acefd"
      },
      "execution_count": 21,
      "outputs": [
        {
          "output_type": "stream",
          "name": "stdout",
          "text": [
            "    hello world  \n"
          ]
        },
        {
          "output_type": "execute_result",
          "data": {
            "application/vnd.google.colaboratory.intrinsic+json": {
              "type": "string"
            },
            "text/plain": [
              "'hello world'"
            ]
          },
          "metadata": {},
          "execution_count": 21
        }
      ]
    },
    {
      "cell_type": "code",
      "source": [
        ""
      ],
      "metadata": {
        "id": "gzOE6IvjtvmI"
      },
      "execution_count": null,
      "outputs": []
    },
    {
      "cell_type": "code",
      "source": [
        ""
      ],
      "metadata": {
        "id": "snMjiTKMtvp_"
      },
      "execution_count": null,
      "outputs": []
    }
  ]
}