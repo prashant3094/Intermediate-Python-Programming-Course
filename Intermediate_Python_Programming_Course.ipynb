{
  "nbformat": 4,
  "nbformat_minor": 0,
  "metadata": {
    "colab": {
      "name": "Intermediate Python Programming Course.ipynb",
      "provenance": [],
      "authorship_tag": "ABX9TyMGkVrrn4vCdDMC9Q510qsP",
      "include_colab_link": true
    },
    "kernelspec": {
      "name": "python3",
      "display_name": "Python 3"
    },
    "language_info": {
      "name": "python"
    }
  },
  "cells": [
    {
      "cell_type": "markdown",
      "metadata": {
        "id": "view-in-github",
        "colab_type": "text"
      },
      "source": [
        "<a href=\"https://colab.research.google.com/github/prashant3094/Intermediate-Python-Programming-Course/blob/main/Intermediate_Python_Programming_Course.ipynb\" target=\"_parent\"><img src=\"https://colab.research.google.com/assets/colab-badge.svg\" alt=\"Open In Colab\"/></a>"
      ]
    },
    {
      "cell_type": "code",
      "execution_count": 1,
      "metadata": {
        "id": "ndLzAzKCy7Do",
        "colab": {
          "base_uri": "https://localhost:8080/"
        },
        "outputId": "643d16e8-621a-4d91-b095-5315c998f3f0"
      },
      "outputs": [
        {
          "output_type": "stream",
          "name": "stdout",
          "text": [
            "<class 'tuple'>\n"
          ]
        }
      ],
      "source": [
        "my_tuple=\"max\",\"28\",\"boston\"\n",
        "print(type(my_tuple))"
      ]
    },
    {
      "cell_type": "code",
      "source": [
        "name,age,city=my_tuple\n",
        "print(name)\n",
        "print(age)\n",
        "print(city)"
      ],
      "metadata": {
        "colab": {
          "base_uri": "https://localhost:8080/"
        },
        "id": "_b5jPPH5tuuY",
        "outputId": "82a135e5-cbf1-49e4-e2a0-73ee64558868"
      },
      "execution_count": 2,
      "outputs": [
        {
          "output_type": "stream",
          "name": "stdout",
          "text": [
            "max\n",
            "28\n",
            "boston\n"
          ]
        }
      ]
    },
    {
      "cell_type": "code",
      "source": [
        "my_tuple=(0,1,2,3,4)\n",
        "i1,*i2,i3=my_tuple\n",
        "print(i1)\n",
        "print(i3)\n",
        "print(i2)"
      ],
      "metadata": {
        "colab": {
          "base_uri": "https://localhost:8080/"
        },
        "id": "yd438jlTt-XF",
        "outputId": "3181f195-7c88-4163-d150-6337f141b203"
      },
      "execution_count": 6,
      "outputs": [
        {
          "output_type": "stream",
          "name": "stdout",
          "text": [
            "0\n",
            "4\n",
            "[1, 2, 3]\n"
          ]
        }
      ]
    },
    {
      "cell_type": "code",
      "source": [
        "#tuples are more fater than list\n",
        "import timeit\n",
        "print(timeit.timeit(stmt=\"[0,1,2,3,4,5]\",number=1000000))  #list\n",
        "print(timeit.timeit(stmt=\"(0,1,2,3,4,5)\",number=1000000))   #tuple "
      ],
      "metadata": {
        "colab": {
          "base_uri": "https://localhost:8080/"
        },
        "id": "P-H902kZtu4d",
        "outputId": "40f25501-75c5-477d-8a72-c69ae0c7154a"
      },
      "execution_count": 10,
      "outputs": [
        {
          "output_type": "stream",
          "name": "stdout",
          "text": [
            "0.09528093699998408\n",
            "0.012587990000042737\n"
          ]
        }
      ]
    },
    {
      "cell_type": "markdown",
      "source": [
        "#sets"
      ],
      "metadata": {
        "id": "evzz8Ila_BjJ"
      }
    },
    {
      "cell_type": "markdown",
      "source": [
        "sets are unordered , mutable and no duplicate"
      ],
      "metadata": {
        "id": "N_dzovP5_EZg"
      }
    },
    {
      "cell_type": "code",
      "source": [
        "my_set=([1,2,3])\n",
        "print(my_set)"
      ],
      "metadata": {
        "colab": {
          "base_uri": "https://localhost:8080/"
        },
        "id": "QE_S0kv_tu7t",
        "outputId": "e97145c5-9ff9-4da2-8d9d-cd7d1c4275ac"
      },
      "execution_count": 1,
      "outputs": [
        {
          "output_type": "stream",
          "name": "stdout",
          "text": [
            "[1, 2, 3]\n"
          ]
        }
      ]
    },
    {
      "cell_type": "code",
      "source": [
        "my_set=set(\"hello\")\n",
        "print(my_set)"
      ],
      "metadata": {
        "colab": {
          "base_uri": "https://localhost:8080/"
        },
        "id": "_YxkUtT7tu-Y",
        "outputId": "f4fa4540-c439-4f2d-87b1-8184214caa6b"
      },
      "execution_count": 2,
      "outputs": [
        {
          "output_type": "stream",
          "name": "stdout",
          "text": [
            "{'h', 'e', 'l', 'o'}\n"
          ]
        }
      ]
    },
    {
      "cell_type": "code",
      "source": [
        "my_set=set()\n",
        "my_set.add(1)\n",
        "my_set.add(2)\n",
        "my_set.add(3)\n",
        "print(my_set)"
      ],
      "metadata": {
        "colab": {
          "base_uri": "https://localhost:8080/"
        },
        "id": "_mpVjnfTtvFX",
        "outputId": "9e3b5c3e-6a78-4eda-90d6-48629ddeaba4"
      },
      "execution_count": 4,
      "outputs": [
        {
          "output_type": "stream",
          "name": "stdout",
          "text": [
            "{1, 2, 3}\n"
          ]
        }
      ]
    },
    {
      "cell_type": "code",
      "source": [
        ""
      ],
      "metadata": {
        "id": "0LUD-u5jtvJI"
      },
      "execution_count": null,
      "outputs": []
    },
    {
      "cell_type": "code",
      "source": [
        ""
      ],
      "metadata": {
        "id": "Z16NpKjwtvLp"
      },
      "execution_count": null,
      "outputs": []
    },
    {
      "cell_type": "code",
      "source": [
        ""
      ],
      "metadata": {
        "id": "Ij1CW_SQtvTg"
      },
      "execution_count": null,
      "outputs": []
    },
    {
      "cell_type": "code",
      "source": [
        ""
      ],
      "metadata": {
        "id": "_XCiznzxtvWt"
      },
      "execution_count": null,
      "outputs": []
    },
    {
      "cell_type": "code",
      "source": [
        ""
      ],
      "metadata": {
        "id": "oeoE2jr3tvc4"
      },
      "execution_count": null,
      "outputs": []
    },
    {
      "cell_type": "code",
      "source": [
        ""
      ],
      "metadata": {
        "id": "1nTYj9a6tvjJ"
      },
      "execution_count": null,
      "outputs": []
    },
    {
      "cell_type": "code",
      "source": [
        ""
      ],
      "metadata": {
        "id": "gzOE6IvjtvmI"
      },
      "execution_count": null,
      "outputs": []
    },
    {
      "cell_type": "code",
      "source": [
        ""
      ],
      "metadata": {
        "id": "snMjiTKMtvp_"
      },
      "execution_count": null,
      "outputs": []
    }
  ]
}