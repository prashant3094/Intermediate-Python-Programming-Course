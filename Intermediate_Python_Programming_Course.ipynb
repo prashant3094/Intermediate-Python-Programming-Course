{
  "nbformat": 4,
  "nbformat_minor": 0,
  "metadata": {
    "colab": {
      "name": "Intermediate Python Programming Course.ipynb",
      "provenance": [],
      "authorship_tag": "ABX9TyNpiXA3+W2JNNTWCO/Qs1w4",
      "include_colab_link": true
    },
    "kernelspec": {
      "name": "python3",
      "display_name": "Python 3"
    },
    "language_info": {
      "name": "python"
    }
  },
  "cells": [
    {
      "cell_type": "markdown",
      "metadata": {
        "id": "view-in-github",
        "colab_type": "text"
      },
      "source": [
        "<a href=\"https://colab.research.google.com/github/prashant3094/Intermediate-Python-Programming-Course/blob/main/Intermediate_Python_Programming_Course.ipynb\" target=\"_parent\"><img src=\"https://colab.research.google.com/assets/colab-badge.svg\" alt=\"Open In Colab\"/></a>"
      ]
    },
    {
      "cell_type": "code",
      "execution_count": 1,
      "metadata": {
        "id": "ndLzAzKCy7Do",
        "colab": {
          "base_uri": "https://localhost:8080/"
        },
        "outputId": "a29cf605-5464-4d93-acce-c488992167ad"
      },
      "outputs": [
        {
          "output_type": "stream",
          "name": "stdout",
          "text": [
            "<class 'tuple'>\n"
          ]
        }
      ],
      "source": [
        "my_tuple=\"max\",\"28\",\"boston\"\n",
        "print(type(my_tuple))"
      ]
    },
    {
      "cell_type": "code",
      "source": [
        "name,age,city=my_tuple\n",
        "print(name)\n",
        "print(age)\n",
        "print(city)"
      ],
      "metadata": {
        "colab": {
          "base_uri": "https://localhost:8080/"
        },
        "id": "_b5jPPH5tuuY",
        "outputId": "0de729a6-a668-460a-d6e9-58251f9bcf3b"
      },
      "execution_count": 2,
      "outputs": [
        {
          "output_type": "stream",
          "name": "stdout",
          "text": [
            "max\n",
            "28\n",
            "boston\n"
          ]
        }
      ]
    },
    {
      "cell_type": "code",
      "source": [
        "my_tuple=(0,1,2,3,4)\n",
        "i1,*i2,i3=my_tuple\n",
        "print(i1)\n",
        "print(i3)\n",
        "print(i2)"
      ],
      "metadata": {
        "colab": {
          "base_uri": "https://localhost:8080/"
        },
        "id": "yd438jlTt-XF",
        "outputId": "c92c25b9-3286-4824-850b-6f2b8ab51cf0"
      },
      "execution_count": 3,
      "outputs": [
        {
          "output_type": "stream",
          "name": "stdout",
          "text": [
            "0\n",
            "4\n",
            "[1, 2, 3]\n"
          ]
        }
      ]
    },
    {
      "cell_type": "code",
      "source": [
        "#tuples are more fater than list\n",
        "import timeit\n",
        "print(timeit.timeit(stmt=\"[0,1,2,3,4,5]\",number=1000000))  #list\n",
        "print(timeit.timeit(stmt=\"(0,1,2,3,4,5)\",number=1000000))   #tuple "
      ],
      "metadata": {
        "colab": {
          "base_uri": "https://localhost:8080/"
        },
        "id": "P-H902kZtu4d",
        "outputId": "8f9345a0-485b-43ea-c06a-f253b660930b"
      },
      "execution_count": 4,
      "outputs": [
        {
          "output_type": "stream",
          "name": "stdout",
          "text": [
            "0.09607780500000018\n",
            "0.01246413399999824\n"
          ]
        }
      ]
    },
    {
      "cell_type": "markdown",
      "source": [
        "#sets"
      ],
      "metadata": {
        "id": "evzz8Ila_BjJ"
      }
    },
    {
      "cell_type": "markdown",
      "source": [
        "sets are unordered , mutable and no duplicate"
      ],
      "metadata": {
        "id": "N_dzovP5_EZg"
      }
    },
    {
      "cell_type": "code",
      "source": [
        "my_set=([1,2,3])\n",
        "print(my_set)"
      ],
      "metadata": {
        "colab": {
          "base_uri": "https://localhost:8080/"
        },
        "id": "QE_S0kv_tu7t",
        "outputId": "89af6050-34e0-4851-9ed2-9ef7781a971f"
      },
      "execution_count": 5,
      "outputs": [
        {
          "output_type": "stream",
          "name": "stdout",
          "text": [
            "[1, 2, 3]\n"
          ]
        }
      ]
    },
    {
      "cell_type": "code",
      "source": [
        "my_set=set(\"hello\")\n",
        "print(my_set)"
      ],
      "metadata": {
        "colab": {
          "base_uri": "https://localhost:8080/"
        },
        "id": "_YxkUtT7tu-Y",
        "outputId": "0d7a5cd9-784f-4a93-e613-5caa0b2f5eea"
      },
      "execution_count": 6,
      "outputs": [
        {
          "output_type": "stream",
          "name": "stdout",
          "text": [
            "{'h', 'l', 'o', 'e'}\n"
          ]
        }
      ]
    },
    {
      "cell_type": "code",
      "source": [
        "my_set=set()\n",
        "my_set.add(1)\n",
        "my_set.add(2)\n",
        "my_set.add(3)\n",
        "print(my_set)"
      ],
      "metadata": {
        "colab": {
          "base_uri": "https://localhost:8080/"
        },
        "id": "_mpVjnfTtvFX",
        "outputId": "80e3ee84-af5e-4835-d3ea-0bb15ecd61e7"
      },
      "execution_count": 7,
      "outputs": [
        {
          "output_type": "stream",
          "name": "stdout",
          "text": [
            "{1, 2, 3}\n"
          ]
        }
      ]
    },
    {
      "cell_type": "code",
      "source": [
        "odds={1,3,5,7,9}\n",
        "evens={0,2,4,6,8}\n",
        "prime={2,3,5,7}"
      ],
      "metadata": {
        "id": "0LUD-u5jtvJI"
      },
      "execution_count": 14,
      "outputs": []
    },
    {
      "cell_type": "code",
      "source": [
        "#union operation\n",
        "u=odds.union(evens)\n",
        "u"
      ],
      "metadata": {
        "id": "Z16NpKjwtvLp",
        "colab": {
          "base_uri": "https://localhost:8080/"
        },
        "outputId": "c04dec87-cc74-4072-c51c-acb7274e9442"
      },
      "execution_count": 15,
      "outputs": [
        {
          "output_type": "execute_result",
          "data": {
            "text/plain": [
              "{0, 1, 2, 3, 4, 5, 6, 7, 8, 9}"
            ]
          },
          "metadata": {},
          "execution_count": 15
        }
      ]
    },
    {
      "cell_type": "code",
      "source": [
        "#intersection\n",
        "i=odds.intersection(evens)\n",
        "i"
      ],
      "metadata": {
        "id": "Ij1CW_SQtvTg",
        "colab": {
          "base_uri": "https://localhost:8080/"
        },
        "outputId": "f9e3c87a-b2ee-4d3c-9971-798e96bb686f"
      },
      "execution_count": 16,
      "outputs": [
        {
          "output_type": "execute_result",
          "data": {
            "text/plain": [
              "set()"
            ]
          },
          "metadata": {},
          "execution_count": 16
        }
      ]
    },
    {
      "cell_type": "code",
      "source": [
        "i=odds.intersection(prime)\n",
        "i"
      ],
      "metadata": {
        "id": "_XCiznzxtvWt",
        "colab": {
          "base_uri": "https://localhost:8080/"
        },
        "outputId": "337bfdfb-0aef-4b56-837c-54a2c49fc6de"
      },
      "execution_count": 17,
      "outputs": [
        {
          "output_type": "execute_result",
          "data": {
            "text/plain": [
              "{3, 5, 7}"
            ]
          },
          "metadata": {},
          "execution_count": 17
        }
      ]
    },
    {
      "cell_type": "code",
      "source": [
        "#concatinating strings\n",
        "greetings=\"hello\"\n",
        "name=\"tom\"\n",
        "sentence= greetings+ \" \" +name\n",
        "print(sentence)"
      ],
      "metadata": {
        "id": "oeoE2jr3tvc4",
        "colab": {
          "base_uri": "https://localhost:8080/"
        },
        "outputId": "0b0b2c2e-3e1e-4cd6-d5f3-5ae6193464ee"
      },
      "execution_count": 19,
      "outputs": [
        {
          "output_type": "stream",
          "name": "stdout",
          "text": [
            "hello tom\n"
          ]
        }
      ]
    },
    {
      "cell_type": "code",
      "source": [
        "#removing white spaces from string\n",
        "my_string=\"    hello world  \"\n",
        "print(my_string)\n",
        "my_string=my_string.strip()\n",
        "my_string  #white space are removed"
      ],
      "metadata": {
        "id": "1nTYj9a6tvjJ",
        "colab": {
          "base_uri": "https://localhost:8080/",
          "height": 53
        },
        "outputId": "a88edec7-7025-48f2-c404-c78c921acefd"
      },
      "execution_count": 21,
      "outputs": [
        {
          "output_type": "stream",
          "name": "stdout",
          "text": [
            "    hello world  \n"
          ]
        },
        {
          "output_type": "execute_result",
          "data": {
            "application/vnd.google.colaboratory.intrinsic+json": {
              "type": "string"
            },
            "text/plain": [
              "'hello world'"
            ]
          },
          "metadata": {},
          "execution_count": 21
        }
      ]
    },
    {
      "cell_type": "code",
      "source": [
        "my_string=\"hello world\"\n",
        "print(my_string.replace(\"world\",\"universe\"))"
      ],
      "metadata": {
        "id": "gzOE6IvjtvmI",
        "colab": {
          "base_uri": "https://localhost:8080/"
        },
        "outputId": "11cf8bf4-6ff7-4bd1-ec25-31ccc596bfce"
      },
      "execution_count": 22,
      "outputs": [
        {
          "output_type": "stream",
          "name": "stdout",
          "text": [
            "hello universe\n"
          ]
        }
      ]
    },
    {
      "cell_type": "code",
      "source": [
        "var=3.1234567\n",
        "my_string=\"the variable is {}\".format(var)\n",
        "print(my_string)"
      ],
      "metadata": {
        "colab": {
          "base_uri": "https://localhost:8080/"
        },
        "id": "orEXYeivaTxT",
        "outputId": "c1190186-051d-4433-bd7b-185abe9b71c1"
      },
      "execution_count": 23,
      "outputs": [
        {
          "output_type": "stream",
          "name": "stdout",
          "text": [
            "the variable is 3.1234567\n"
          ]
        }
      ]
    },
    {
      "cell_type": "code",
      "source": [
        "var1=3.1234567\n",
        "var2=6\n",
        "my_string=f\"the variable is {var1} and {var2}\"\n",
        "print(my_string)"
      ],
      "metadata": {
        "colab": {
          "base_uri": "https://localhost:8080/"
        },
        "id": "QqW7GGO3aTz7",
        "outputId": "a15ea5ab-b1c8-4a07-d295-1ac736558170"
      },
      "execution_count": 25,
      "outputs": [
        {
          "output_type": "stream",
          "name": "stdout",
          "text": [
            "the variable is 3.1234567 and 6\n"
          ]
        }
      ]
    },
    {
      "cell_type": "markdown",
      "source": [
        "#collections"
      ],
      "metadata": {
        "id": "p59uc_3YmwNN"
      }
    },
    {
      "cell_type": "code",
      "source": [
        "from collections import Counter"
      ],
      "metadata": {
        "id": "YTHFjvyhaT2_"
      },
      "execution_count": 27,
      "outputs": []
    },
    {
      "cell_type": "code",
      "source": [
        "a=\"aaaaaaabbbbbccc\"\n",
        "my_counter=Counter(a)\n",
        "print(my_counter)"
      ],
      "metadata": {
        "colab": {
          "base_uri": "https://localhost:8080/"
        },
        "id": "cRUNdDidaT5O",
        "outputId": "34b12e58-d861-4a90-ae50-865cba24db28"
      },
      "execution_count": 30,
      "outputs": [
        {
          "output_type": "stream",
          "name": "stdout",
          "text": [
            "Counter({'a': 7, 'b': 5, 'c': 3})\n"
          ]
        }
      ]
    },
    {
      "cell_type": "code",
      "source": [
        "print(my_counter.most_common(1))  #a is most common element in our string"
      ],
      "metadata": {
        "colab": {
          "base_uri": "https://localhost:8080/"
        },
        "id": "eg7K0gg1aT7u",
        "outputId": "3c832edc-5348-4b44-e5a6-ce1fefb6f82d"
      },
      "execution_count": 31,
      "outputs": [
        {
          "output_type": "stream",
          "name": "stdout",
          "text": [
            "[('a', 7)]\n"
          ]
        }
      ]
    },
    {
      "cell_type": "code",
      "source": [
        "print(list(my_counter.elements()))"
      ],
      "metadata": {
        "colab": {
          "base_uri": "https://localhost:8080/"
        },
        "id": "KAJd250raT-a",
        "outputId": "f48ac818-b136-456d-dd40-2ef47d424368"
      },
      "execution_count": 32,
      "outputs": [
        {
          "output_type": "stream",
          "name": "stdout",
          "text": [
            "['a', 'a', 'a', 'a', 'a', 'a', 'a', 'b', 'b', 'b', 'b', 'b', 'c', 'c', 'c']\n"
          ]
        }
      ]
    },
    {
      "cell_type": "code",
      "source": [
        "from collections import namedtuple\n",
        "point=namedtuple(\"point\",\"x,y\")\n",
        "pt=point(1,-4)\n",
        "print(pt.x,pt.y)"
      ],
      "metadata": {
        "colab": {
          "base_uri": "https://localhost:8080/"
        },
        "id": "NQaVfDHNaUAk",
        "outputId": "6ebe19e6-ea2c-4fb5-d9e3-3d98aa5bb74e"
      },
      "execution_count": 34,
      "outputs": [
        {
          "output_type": "stream",
          "name": "stdout",
          "text": [
            "1 -4\n"
          ]
        }
      ]
    },
    {
      "cell_type": "code",
      "source": [
        "from collections import deque\n",
        "d=deque()\n",
        "d.append(1)\n",
        "d.append(2)\n",
        "print(d)"
      ],
      "metadata": {
        "id": "snMjiTKMtvp_",
        "colab": {
          "base_uri": "https://localhost:8080/"
        },
        "outputId": "b46f93dc-8a64-4a7f-87fe-eb7852623a78"
      },
      "execution_count": 37,
      "outputs": [
        {
          "output_type": "stream",
          "name": "stdout",
          "text": [
            "deque([1, 2])\n"
          ]
        }
      ]
    },
    {
      "cell_type": "markdown",
      "source": [
        "#itertools"
      ],
      "metadata": {
        "id": "c0d0d3Wksj-0"
      }
    },
    {
      "cell_type": "code",
      "source": [
        "from itertools import permutations\n",
        "a=[1,2,3]\n",
        "perm=permutations(a)\n",
        "print(list(perm))  # we see all the different ordering"
      ],
      "metadata": {
        "colab": {
          "base_uri": "https://localhost:8080/"
        },
        "id": "wv24UMCPr25h",
        "outputId": "be04078c-7a83-40f0-c16b-8e7917f09cd3"
      },
      "execution_count": 39,
      "outputs": [
        {
          "output_type": "stream",
          "name": "stdout",
          "text": [
            "[(1, 2, 3), (1, 3, 2), (2, 1, 3), (2, 3, 1), (3, 1, 2), (3, 2, 1)]\n"
          ]
        }
      ]
    },
    {
      "cell_type": "code",
      "source": [
        "from itertools import combinations\n",
        "a=[1,2,3]\n",
        "perm=combinations(a,2)\n",
        "print(list(perm))  # "
      ],
      "metadata": {
        "colab": {
          "base_uri": "https://localhost:8080/"
        },
        "id": "NApUqoPjr28-",
        "outputId": "a8dbfcab-f6c5-454b-a35c-4ecf5322ba34"
      },
      "execution_count": 41,
      "outputs": [
        {
          "output_type": "stream",
          "name": "stdout",
          "text": [
            "[(1, 2), (1, 3), (2, 3)]\n"
          ]
        }
      ]
    },
    {
      "cell_type": "code",
      "source": [
        "from itertools import accumulate\n",
        "a=[1,2,3,4]\n",
        "acc=accumulate(a)\n",
        "print(a)\n",
        "print(list(acc))"
      ],
      "metadata": {
        "colab": {
          "base_uri": "https://localhost:8080/"
        },
        "id": "B675TOvYr2_u",
        "outputId": "8da5c9f5-6e23-45c8-e461-d5e17f65e100"
      },
      "execution_count": 42,
      "outputs": [
        {
          "output_type": "stream",
          "name": "stdout",
          "text": [
            "[1, 2, 3, 4]\n",
            "[1, 3, 6, 10]\n"
          ]
        }
      ]
    },
    {
      "cell_type": "markdown",
      "source": [
        "#LAMBDA== One line function"
      ],
      "metadata": {
        "id": "mXi62zfP8S5L"
      }
    },
    {
      "cell_type": "code",
      "source": [
        "def add10_func(x):\n",
        "  return x+10\n",
        "\n",
        "add10_func(5)"
      ],
      "metadata": {
        "colab": {
          "base_uri": "https://localhost:8080/"
        },
        "id": "ColqSuib8hzT",
        "outputId": "79af9ec6-9f93-40b7-ffb8-190bf6c4e2f7"
      },
      "execution_count": 45,
      "outputs": [
        {
          "output_type": "execute_result",
          "data": {
            "text/plain": [
              "15"
            ]
          },
          "metadata": {},
          "execution_count": 45
        }
      ]
    },
    {
      "cell_type": "code",
      "source": [
        "add10=lambda x : x+10\n",
        "print(add10(5))"
      ],
      "metadata": {
        "colab": {
          "base_uri": "https://localhost:8080/"
        },
        "id": "Fhbto0uer3Ce",
        "outputId": "253a2600-8d42-4f53-a5df-7c753ad6d9e4"
      },
      "execution_count": 43,
      "outputs": [
        {
          "output_type": "stream",
          "name": "stdout",
          "text": [
            "15\n"
          ]
        }
      ]
    },
    {
      "cell_type": "code",
      "source": [
        ""
      ],
      "metadata": {
        "id": "5uzQ5KMyr3FB"
      },
      "execution_count": null,
      "outputs": []
    },
    {
      "cell_type": "code",
      "source": [
        ""
      ],
      "metadata": {
        "id": "auLOr0a1r3I4"
      },
      "execution_count": null,
      "outputs": []
    },
    {
      "cell_type": "code",
      "source": [
        ""
      ],
      "metadata": {
        "id": "Nu-jHFwLr3Lj"
      },
      "execution_count": null,
      "outputs": []
    }
  ]
}